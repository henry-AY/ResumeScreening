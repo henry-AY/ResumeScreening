[33mcommit 362533eed389c6554da5f7f3a42e4b13f5cf7fc1[m[33m ([m[1;36mHEAD[m[33m -> [m[1;32mmain[m[33m)[m
Author: RefugioZ <refugioz284@gmail.com>
Date:   Thu May 29 14:48:09 2025 -0700

    Added a simple EDA

[33mcommit 7f06f0a6a874a3db78ff32cf32ff8a3a27abb916[m
Author: Hy8012 <henryyost402@gmail.com>
Date:   Tue May 27 23:17:36 2025 -0700

    Ready for EDA

[33mcommit d75ecba0e8eb32f4531d8b63ba56a8c91f735418[m
Author: Hy8012 <henryyost402@gmail.com>
Date:   Tue May 27 13:20:47 2025 -0700

    updated gitignore and removed ipynb caching

[33mcommit 6dac1444bad273d6013bcbc04a595dd499acd31b[m
Author: Hy8012 <henryyost402@gmail.com>
Date:   Tue May 27 13:17:39 2025 -0700

    removed tracking for checkpoints

[33mcommit fbcb8f97cd8f8d7bcc52a1349fd4bb34af5342e9[m
Author: Henry <152554805+henry-AY@users.noreply.github.com>
Date:   Tue May 27 13:16:37 2025 -0700

    Create .gitignore

[33mcommit b3d146a3bf7bbcd6353683fc2bf66aef64575bbb[m
Author: Hy8012 <henryyost402@gmail.com>
Date:   Tue May 27 13:12:39 2025 -0700

    next steps

[33mcommit 71515fd02cbadd2feb8f6ccd0ee3d2ba431b3109[m
Author: Hy8012 <henryyost402@gmail.com>
Date:   Tue May 27 13:10:51 2025 -0700

    Resume.scv

[33mcommit e4a9f37c56c1884bf3c798004a1de38efb96a436[m
Author: Henry <152554805+henry-AY@users.noreply.github.com>
Date:   Tue May 27 12:51:53 2025 -0700

    Initial commit

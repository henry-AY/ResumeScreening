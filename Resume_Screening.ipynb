{
 "cells": [
  {
   "cell_type": "markdown",
   "id": "a0abe05b-bd54-464e-ad8a-865291d488b1",
   "metadata": {},
   "source": [
    "# Resume Screening - Applicant Tracking System (ATS)"
   ]
  },
  {
   "cell_type": "markdown",
   "id": "94b17355-a12e-43dd-b11c-d4df8a817d40",
   "metadata": {},
   "source": [
    "Henry Yost, Riya Ashok, Angelina Jordan, Gokul Giridharan, and Refugio Zepeda Jr"
   ]
  },
  {
   "cell_type": "markdown",
   "id": "52b4f577-4a57-418f-b805-7dfb7d5687f3",
   "metadata": {},
   "source": [
    "## Project Outline\n",
    "> Answer"
   ]
  },
  {
   "cell_type": "markdown",
   "id": "10354909-d23e-4a6f-b296-f6231dc85791",
   "metadata": {},
   "source": [
    "## Dataset Exploration & Variables in the Dataset\n",
    "> Answer more in depth\n",
    "\n",
    "Given a dataset of resumes, can we assess if someone is qualified for the job position?"
   ]
  },
  {
   "cell_type": "markdown",
   "id": "503d9d3e-9ae4-43fe-b7e1-d6f101a2887e",
   "metadata": {},
   "source": [
    "### Plan\n",
    "\n",
    "1. Use BERT to classify the categories into 'buckets'\n",
    "2. Save each bucket as a new CSV file\n",
    "3. For the CSV file most closely related, find a very specific Job Description (i.e., Software Engineer @ Apple)\n",
    "4. Preprocess resumes (lowercasing, removing symbols, indents, etc)\n",
    "5. Use RegEx and hard criteria to filter resumes (Phase 1)\n",
    "6. Pick an IDEAL resume for the position (let's say the person is leaving, and use their resume as the ideal one to fill in the position)\n",
    "7. TF-IDF on applicants' resume and ideal --> Cosine similarity, Rank in order\n",
    "8. Human looks through the top 20 resumes and marks as qualified or not\n",
    "9. Use resume BERT embeddings for logistical regression\n",
    "10. Naive Bayes with TF-IDF?\n",
    "11. Lastly, combine via Soft voting, rank fusion or stacking (not sure which one would work best)"
   ]
  },
  {
   "cell_type": "code",
   "execution_count": 6,
   "id": "0a82b003-5049-40fb-b7c7-21a4edfad57b",
   "metadata": {},
   "outputs": [],
   "source": [
    "# Library Importing\n",
    "import pandas as pd\n",
    "import re #RegEx\n",
    "\n",
    "# First stage resume cleaning\n",
    "from sentence_transformers import SentenceTransformer\n",
    "from sklearn.metrics.pairwise import cosine_similarity\n",
    "import numpy as np"
   ]
  },
  {
   "cell_type": "markdown",
   "id": "038667e1-0325-4fbc-9d40-48fbe7669fa2",
   "metadata": {},
   "source": [
    "## 1. Importing Dataset & Cleaning"
   ]
  },
  {
   "cell_type": "code",
   "execution_count": 8,
   "id": "a3b0ca81-d0ef-4494-9811-3a59ce1146b5",
   "metadata": {},
   "outputs": [],
   "source": [
    "df_orig = pd.read_csv(\"Resume.csv\")\n",
    "df_orig = df_orig.drop(\"Resume_html\", axis=1) # Drop HTML, because we do not need it\n",
    "\n",
    "# All possible categories: HR, Designer, Information-Technology, Teacher, Advocate, Business-Development, \n",
    "# Healthcare, Fitness, Agriculture, BPO, Sales, Consultant, Digital-Media, Automobile, Chef, \n",
    "# Finance, Apparel, Engineering, Accountant, Construction, Public Relations, Banking, Arts, Aviation\n",
    "\n",
    "# Separate into approx 5 meaningful buckets\n",
    "df_tech = df_orig[df_orig['Category'].isin(['INFORMATION-TECHNOLOGY', 'ENGINEERING', 'DIGITAL-MEDIA', 'HR'])]\n",
    "df_tech = df_tech.copy()\n",
    "df_health_well = df_orig[df_orig['Category'].isin(['HEALTHCARE', 'FITNESS'])]\n",
    "df_bus_fin = df_orig[df_orig['Category'].isin(['BUSINESS-DEVELOPMENT', 'SALES', 'CONSULTANT', 'FINANCE', 'ACCOUNTANT', 'BANKING'])]\n",
    "df_creative_public = df_orig[df_orig['Category'].isin(['ARTS', 'DESIGNER', 'PUBLIC-RELATIONS', 'TEACHER', 'ADVOCATE', 'CHEF', 'APPAREL'])]\n",
    "df_indust = df_orig[df_orig['Category'].isin(['AGRICULTURE', 'AUTOMOBILE', 'CONSTRUCTION', 'AVIATION', 'BPO', 'CHEF', 'APPAREL'])]\n",
    "\n",
    "# Write each bucket to a CSV\n",
    "df_tech.to_csv(\"tech.csv\")\n",
    "df_health_well.to_csv(\"health_wellness.csv\")\n",
    "df_bus_fin.to_csv(\"business_finance.csv\")\n",
    "df_creative_public.to_csv(\"creative_public.csv\")\n",
    "df_indust.to_csv(\"industrial.csv\")"
   ]
  },
  {
   "cell_type": "code",
   "execution_count": 9,
   "id": "841f4a43-fdd6-4897-b068-421de45fa5e2",
   "metadata": {},
   "outputs": [
    {
     "data": {
      "text/html": [
       "<div>\n",
       "<style scoped>\n",
       "    .dataframe tbody tr th:only-of-type {\n",
       "        vertical-align: middle;\n",
       "    }\n",
       "\n",
       "    .dataframe tbody tr th {\n",
       "        vertical-align: top;\n",
       "    }\n",
       "\n",
       "    .dataframe thead th {\n",
       "        text-align: right;\n",
       "    }\n",
       "</style>\n",
       "<table border=\"1\" class=\"dataframe\">\n",
       "  <thead>\n",
       "    <tr style=\"text-align: right;\">\n",
       "      <th></th>\n",
       "      <th>ID</th>\n",
       "      <th>Resume_str</th>\n",
       "      <th>Category</th>\n",
       "      <th>Cleaned_str</th>\n",
       "    </tr>\n",
       "  </thead>\n",
       "  <tbody>\n",
       "    <tr>\n",
       "      <th>0</th>\n",
       "      <td>16852973</td>\n",
       "      <td>HR ADMINISTRATOR/MARKETING ASSOCIATE\\...</td>\n",
       "      <td>HR</td>\n",
       "      <td>hr administrator marketing associate hr admini...</td>\n",
       "    </tr>\n",
       "    <tr>\n",
       "      <th>1</th>\n",
       "      <td>22323967</td>\n",
       "      <td>HR SPECIALIST, US HR OPERATIONS      ...</td>\n",
       "      <td>HR</td>\n",
       "      <td>hr specialist, us hr operations summary versat...</td>\n",
       "    </tr>\n",
       "    <tr>\n",
       "      <th>2</th>\n",
       "      <td>33176873</td>\n",
       "      <td>HR DIRECTOR       Summary      Over 2...</td>\n",
       "      <td>HR</td>\n",
       "      <td>hr director summary over 20 years experience i...</td>\n",
       "    </tr>\n",
       "    <tr>\n",
       "      <th>3</th>\n",
       "      <td>27018550</td>\n",
       "      <td>HR SPECIALIST       Summary    Dedica...</td>\n",
       "      <td>HR</td>\n",
       "      <td>hr specialist summary dedicated, driven, and d...</td>\n",
       "    </tr>\n",
       "    <tr>\n",
       "      <th>4</th>\n",
       "      <td>17812897</td>\n",
       "      <td>HR MANAGER         Skill Highlights  ...</td>\n",
       "      <td>HR</td>\n",
       "      <td>hr manager skill highlights hr skills hr depar...</td>\n",
       "    </tr>\n",
       "  </tbody>\n",
       "</table>\n",
       "</div>"
      ],
      "text/plain": [
       "         ID                                         Resume_str Category  \\\n",
       "0  16852973           HR ADMINISTRATOR/MARKETING ASSOCIATE\\...       HR   \n",
       "1  22323967           HR SPECIALIST, US HR OPERATIONS      ...       HR   \n",
       "2  33176873           HR DIRECTOR       Summary      Over 2...       HR   \n",
       "3  27018550           HR SPECIALIST       Summary    Dedica...       HR   \n",
       "4  17812897           HR MANAGER         Skill Highlights  ...       HR   \n",
       "\n",
       "                                         Cleaned_str  \n",
       "0  hr administrator marketing associate hr admini...  \n",
       "1  hr specialist, us hr operations summary versat...  \n",
       "2  hr director summary over 20 years experience i...  \n",
       "3  hr specialist summary dedicated, driven, and d...  \n",
       "4  hr manager skill highlights hr skills hr depar...  "
      ]
     },
     "execution_count": 9,
     "metadata": {},
     "output_type": "execute_result"
    }
   ],
   "source": [
    "# Using RegEx to clean the Resume strings\n",
    "def clean_resume(text):\n",
    "    text = text.lower() # Make everything lowercase.\n",
    "    text = re.sub(r'\\s+', ' ', text) # replaces whitespace characters with a single space.\n",
    "    text = re.sub(r'\\/+', ' ', text) # replaces / characters with a single space (some resumes use backslashes)\n",
    "    text = re.sub(r'[^a-z0-9\\s\\.\\,\\-]', '', text) # keeps letters, numbers, whitespace, periods, and dashes.\n",
    "    text = re.sub(r'\\s+', ' ', text).strip() # replaces leading and trailing whitespace characters.\n",
    "    return text\n",
    "\n",
    "df_tech.loc[:, \"Cleaned_str\"] = df_tech[\"Resume_str\"].apply(clean_resume)\n",
    "\n",
    "# Also, there are no NaN values, so we don't need to drop any rows.\n",
    "\n",
    "df_tech.head()"
   ]
  },
  {
   "cell_type": "markdown",
   "id": "1802ee9d-3de4-451c-b0a5-f720d7406b39",
   "metadata": {},
   "source": [
    "## 4. Exploratory Data Analysis (EDA)"
   ]
  },
  {
   "cell_type": "code",
   "execution_count": 12,
   "id": "dd3c885a-85b9-4232-a516-e82dd43e924e",
   "metadata": {},
   "outputs": [
    {
     "name": "stderr",
     "output_type": "stream",
     "text": [
      "huggingface/tokenizers: The current process just got forked, after parallelism has already been used. Disabling parallelism to avoid deadlocks...\n",
      "To disable this warning, you can either:\n",
      "\t- Avoid using `tokenizers` before the fork if possible\n",
      "\t- Explicitly set the environment variable TOKENIZERS_PARALLELISM=(true | false)\n"
     ]
    },
    {
     "name": "stdout",
     "output_type": "stream",
     "text": [
      "Requirement already satisfied: wordcloud in /opt/anaconda3/lib/python3.12/site-packages (1.9.4)\n",
      "Requirement already satisfied: numpy>=1.6.1 in /opt/anaconda3/lib/python3.12/site-packages (from wordcloud) (1.26.4)\n",
      "Requirement already satisfied: pillow in /opt/anaconda3/lib/python3.12/site-packages (from wordcloud) (10.4.0)\n",
      "Requirement already satisfied: matplotlib in /opt/anaconda3/lib/python3.12/site-packages (from wordcloud) (3.9.2)\n",
      "Requirement already satisfied: contourpy>=1.0.1 in /opt/anaconda3/lib/python3.12/site-packages (from matplotlib->wordcloud) (1.2.0)\n",
      "Requirement already satisfied: cycler>=0.10 in /opt/anaconda3/lib/python3.12/site-packages (from matplotlib->wordcloud) (0.11.0)\n",
      "Requirement already satisfied: fonttools>=4.22.0 in /opt/anaconda3/lib/python3.12/site-packages (from matplotlib->wordcloud) (4.51.0)\n",
      "Requirement already satisfied: kiwisolver>=1.3.1 in /opt/anaconda3/lib/python3.12/site-packages (from matplotlib->wordcloud) (1.4.4)\n",
      "Requirement already satisfied: packaging>=20.0 in /opt/anaconda3/lib/python3.12/site-packages (from matplotlib->wordcloud) (24.1)\n",
      "Requirement already satisfied: pyparsing>=2.3.1 in /opt/anaconda3/lib/python3.12/site-packages (from matplotlib->wordcloud) (3.1.2)\n",
      "Requirement already satisfied: python-dateutil>=2.7 in /opt/anaconda3/lib/python3.12/site-packages (from matplotlib->wordcloud) (2.9.0.post0)\n",
      "Requirement already satisfied: six>=1.5 in /opt/anaconda3/lib/python3.12/site-packages (from python-dateutil>=2.7->matplotlib->wordcloud) (1.16.0)\n"
     ]
    },
    {
     "ename": "NameError",
     "evalue": "name 'df' is not defined",
     "output_type": "error",
     "traceback": [
      "\u001b[0;31m---------------------------------------------------------------------------\u001b[0m",
      "\u001b[0;31mNameError\u001b[0m                                 Traceback (most recent call last)",
      "Cell \u001b[0;32mIn[12], line 5\u001b[0m\n\u001b[1;32m      2\u001b[0m \u001b[38;5;28;01mimport\u001b[39;00m \u001b[38;5;21;01mmatplotlib\u001b[39;00m\u001b[38;5;21;01m.\u001b[39;00m\u001b[38;5;21;01mpyplot\u001b[39;00m \u001b[38;5;28;01mas\u001b[39;00m \u001b[38;5;21;01mplt\u001b[39;00m\n\u001b[1;32m      3\u001b[0m \u001b[38;5;28;01mfrom\u001b[39;00m \u001b[38;5;21;01mwordcloud\u001b[39;00m \u001b[38;5;28;01mimport\u001b[39;00m WordCloud\n\u001b[0;32m----> 5\u001b[0m cat_count \u001b[38;5;241m=\u001b[39m df[\u001b[38;5;124m'\u001b[39m\u001b[38;5;124mCategory\u001b[39m\u001b[38;5;124m'\u001b[39m]\u001b[38;5;241m.\u001b[39mvalue_counts()\n\u001b[1;32m      6\u001b[0m cat_count\u001b[38;5;241m.\u001b[39mplot(kind\u001b[38;5;241m=\u001b[39m\u001b[38;5;124m'\u001b[39m\u001b[38;5;124mbar\u001b[39m\u001b[38;5;124m'\u001b[39m)\n\u001b[1;32m      8\u001b[0m plt\u001b[38;5;241m.\u001b[39mtitle(\u001b[38;5;124m\"\u001b[39m\u001b[38;5;124mResume Count per Category\u001b[39m\u001b[38;5;124m\"\u001b[39m)\n",
      "\u001b[0;31mNameError\u001b[0m: name 'df' is not defined"
     ]
    }
   ],
   "source": [
    "!pip install wordcloud\n",
    "import matplotlib.pyplot as plt\n",
    "from wordcloud import WordCloud\n",
    "\n",
    "cat_count = df['Category'].value_counts()\n",
    "cat_count.plot(kind='bar')\n",
    "\n",
    "plt.title(\"Resume Count per Category\")\n",
    "plt.xlabel('Category')\n",
    "plt.ylabel('Frequency')\n",
    "plt.xticks(rotation=45)\n",
    "\n",
    "plt.show()"
   ]
  },
  {
   "cell_type": "code",
   "execution_count": null,
   "id": "f933a9e4-8bc3-4045-a022-347b5ac4d159",
   "metadata": {},
   "outputs": [],
   "source": [
    "grouped = df.groupby('Category')['Resume_str'].apply(lambda texts: ' '.join(texts))\n",
    "\n",
    "for category, texts in grouped.items(): \n",
    "    wordcloud = WordCloud(\n",
    "        width=800,\n",
    "        height=400,\n",
    "        background_color='white',\n",
    "        max_words=100\n",
    "    ).generate(texts)\n",
    "\n",
    "    plt.figure(figsize=(10, 5))\n",
    "    plt.imshow(wordcloud, interpolation='bilinear')\n",
    "    plt.title(f\"Word Cloud for Category: {category}\")\n",
    "    plt.show()"
   ]
  },
  {
   "cell_type": "code",
   "execution_count": null,
   "id": "00377050-7f17-4ba3-8193-2c19cd61d9b9",
   "metadata": {},
   "outputs": [],
   "source": [
    "df['resume_length'] = df['Resume_str'].str.count(' ').add(1)\n",
    "average_length = df.groupby('Category')['resume_length'].mean()\n",
    "\n",
    "average_length.plot(kind='bar')\n",
    "plt.title(\"Avg Resume Length per Category\")\n",
    "plt.xlabel(\"Category\")\n",
    "plt.ylabel(\"Average Resume Length\")\n",
    "plt.xticks(rotation=45)\n",
    "plt.show()"
   ]
  },
  {
   "cell_type": "markdown",
   "id": "76da1c85-bb1b-4b6b-a68a-bff0679aeb67",
   "metadata": {},
   "source": [
    "# Tesla Software and Energy Engineer\n",
    "## 1. First Resume Cleaning Cycle"
   ]
  },
  {
   "cell_type": "code",
   "execution_count": null,
   "id": "f871d2f2-3c75-4760-8478-526bd1dfa240",
   "metadata": {},
   "outputs": [],
   "source": [
    "# Need to clean here for if they are pursuing a degree in the right area, etc..."
   ]
  },
  {
   "cell_type": "code",
   "execution_count": 57,
   "id": "3c1905c5-74d5-47b1-8980-6a5476c26c7f",
   "metadata": {},
   "outputs": [
    {
     "name": "stdout",
     "output_type": "stream",
     "text": [
      "[(0, 0.26359048), (1, 0.3039695), (2, 0.2247178), (3, 0.22024816), (4, 0.30639875), (5, 0.15902302), (6, 0.33533168), (7, 0.3096887), (8, 0.330334), (9, 0.17795658), (10, 0.33504027), (11, 0.27243245), (12, 0.31615862), (13, 0.30883217), (14, 0.25340807), (15, 0.28860348), (16, 0.29375806), (17, 0.27986264), (18, 0.2695866), (19, 0.2257387), (20, 0.15821551), (21, 0.37811512), (22, 0.3280647), (23, 0.2592352), (24, 0.24950483), (25, 0.27402243), (26, 0.27118862), (27, 0.22076453), (28, 0.33867198), (29, 0.32802355), (30, 0.30770046), (31, 0.31399816), (32, 0.3164551), (33, 0.27029747), (34, 0.24373597), (35, 0.25274765), (36, 0.27504802), (37, 0.25138214), (38, 0.33476862), (39, 0.245576), (40, 0.2550513), (41, 0.242484), (42, 0.28322962), (43, 0.24639334), (44, 0.21575162), (45, 0.3044806), (46, 0.19783981), (47, 0.33536342), (48, 0.23814613), (49, 0.27842078), (50, 0.12366162), (51, 0.23203014), (52, 0.27345842), (53, 0.30154103), (54, 0.30440846), (55, 0.30440938), (56, 0.25762764), (57, 0.26592198), (58, 0.24560104), (59, 0.23628032), (60, 0.22613904), (61, 0.18782169), (62, 0.26368344), (63, 0.24048486), (64, 0.15703323), (65, 0.21852271), (66, 0.23987699), (67, 0.28425232), (68, 0.20432577), (69, 0.3190781), (70, 0.19797611), (71, 0.26084223), (72, 0.20298183), (73, 0.33670548), (74, 0.28281766), (75, 0.26847044), (76, 0.35097128), (77, 0.292238), (78, 0.36103857), (79, 0.26152655), (80, 0.21986464), (81, 0.29580265), (82, 0.17780244), (83, 0.23060587), (84, 0.14579535), (85, 0.25814086), (86, 0.267255), (87, 0.2917711), (88, 0.14949036), (89, 0.2407849), (90, 0.17025335), (91, 0.35057312), (92, 0.32288736), (93, 0.24686737), (94, 0.32029754), (95, 0.2670406), (96, 0.20289683), (97, 0.18754393), (98, 0.23674423), (99, 0.27172786), (100, 0.17691928), (101, 0.252369), (102, 0.2651015), (103, 0.1878608), (104, 0.16286322), (105, 0.24791232), (106, 0.30066377), (107, 0.20769274), (108, 0.3775772), (109, 0.2764286), (110, 0.40877974), (111, 0.36969465), (112, 0.32147983), (113, 0.36924067), (114, 0.3535615), (115, 0.44530982), (116, 0.3210166), (117, 0.4323843), (118, 0.44045907), (119, 0.39800206), (120, 0.21163015), (121, 0.29504597), (122, 0.3166537), (123, 0.259551), (124, 0.36502147), (125, 0.4230392), (126, 0.30135635), (127, 0.3709157), (128, 0.31841427), (129, 0.32082283), (130, 0.25530666), (131, 0.32671303), (132, 0.2726009), (133, 0.27429238), (134, 0.29257193), (135, 0.40505937), (136, 0.3255636), (137, 0.27182782), (138, 0.30219233), (139, 0.32957163), (140, 0.37944803), (141, 0.4409024), (142, 0.40463543), (143, 0.3260625), (144, 0.28428972), (145, 0.25672814), (146, 0.43231094), (147, 0.5509381), (148, 0.39713654), (149, 0.26163965), (150, 0.1696483), (151, 0.24720933), (152, 0.4144413), (153, 0.31751704), (154, 0.27545184), (155, 0.245652), (156, 0.28934032), (157, 0.34872282), (158, 0.37065968), (159, 0.2605694), (160, 0.44630504), (161, 0.33389765), (162, 0.2782571), (163, 0.30310172), (164, 0.2755149), (165, 0.2647704), (166, 0.277344), (167, 0.24619839), (168, 0.357139), (169, 0.41143382), (170, 0.37482974), (171, 0.32516062), (172, 0.33339027), (173, 0.30493444), (174, 0.38638067), (175, 0.251549), (176, 0.27785552), (177, 0.19523951), (178, 0.40876287), (179, 0.28053492), (180, 0.34884351), (181, 0.31413254), (182, 0.3288899), (183, 0.34422976), (184, 0.44988722), (185, 0.2772728), (186, 0.35936803), (187, 0.35344368), (188, 0.25620925), (189, 0.29085636), (190, 0.5099367), (191, 0.289296), (192, 0.37880987), (193, 0.35001615), (194, 0.24276659), (195, 0.3378688), (196, 0.3351407), (197, 0.44703948), (198, 0.41767883), (199, 0.25334454), (200, 0.17035778), (201, 0.37666225), (202, 0.36585587), (203, 0.27610618), (204, 0.36888424), (205, 0.38250577), (206, 0.19508295), (207, 0.4500615), (208, 0.44042224), (209, 0.24032459), (210, 0.2726648), (211, 0.3713926), (212, 0.37630218), (213, 0.1967156), (214, 0.20068978), (215, 0.21576482), (216, 0.37507176), (217, 0.3639987), (218, 0.31516224), (219, 0.2838741), (220, 0.3748751), (221, 0.229553), (222, 0.2552349), (223, 0.39549437), (224, 0.20566246), (225, 0.34267202), (226, 0.43482938), (227, 0.29789954), (228, 0.37004614), (229, 0.31932002), (230, 0.21146905), (231, 0.37414157), (232, 0.3396419), (233, 0.18874899), (234, 0.1417503), (235, 0.14581904), (236, 0.13340835), (237, 0.15381664), (238, 0.17118585), (239, 0.31115848), (240, 0.24435231), (241, 0.22154316), (242, 0.21181893), (243, 0.33173916), (244, 0.3160565), (245, 0.19001168), (246, 0.12893936), (247, 0.109463446), (248, 0.15889682), (249, 0.3744773), (250, 0.19107488), (251, 0.28210562), (252, 0.2391149), (253, 0.26182032), (254, 0.24558264), (255, 0.10508129), (256, 0.29925007), (257, 0.21731693), (258, 0.3968832), (259, 0.27135918), (260, 0.29282555), (261, 0.25289738), (262, 0.3800006), (263, 0.33405796), (264, 0.28574154), (265, 0.24840748), (266, 0.31335247), (267, 0.17920583), (268, 0.22921899), (269, 0.32953578), (270, 0.21922894), (271, 0.30611596), (272, 0.15075791), (273, 0.1965968), (274, 0.20972693), (275, 0.2655035), (276, 0.21858555), (277, 0.24427281), (278, 0.28935358), (279, 0.20443198), (280, 0.1567392), (281, 0.21347925), (282, 0.17624804), (283, 0.17353176), (284, 0.19019985), (285, 0.3022685), (286, 0.25513172), (287, 0.27634233), (288, 0.17242482), (289, 0.15555795), (290, 0.155519), (291, 0.26547283), (292, 0.2324286), (293, 0.1934373), (294, 0.11811477), (295, 0.19992425), (296, 0.16729945), (297, 0.20033593), (298, 0.09079884), (299, 0.32163724), (300, 0.2520858), (301, 0.38848615), (302, 0.1484428), (303, 0.20089126), (304, 0.25749218), (305, 0.2269776), (306, 0.25047272), (307, 0.28378028), (308, 0.32938886), (309, 0.31603235), (310, 0.22107795), (311, 0.37719747), (312, 0.24487035), (313, 0.31640786), (314, 0.245971), (315, 0.23980373), (316, 0.26958877), (317, 0.26780227), (318, 0.20903206), (319, 0.28129578), (320, 0.20760882), (321, 0.23229055), (322, 0.35383606), (323, 0.10802354), (324, 0.3540391), (325, 0.23034577), (326, 0.3675961), (327, 0.37620413), (328, 0.32581213), (329, 0.38116252), (330, 0.44986147), (331, 0.62093765), (332, 0.4523211), (333, 0.28214616), (334, 0.43886563), (335, 0.42895433), (336, 0.3787809), (337, 0.3460823), (338, 0.417536), (339, 0.43941408), (340, 0.21122304), (341, 0.4182299), (342, 0.46127495), (343, 0.48480505), (344, 0.27595472), (345, 0.48521817), (346, 0.5845447), (347, 0.33098274), (348, 0.53359866), (349, 0.30761948), (350, 0.35777104), (351, 0.48695028), (352, 0.40493712), (353, 0.26699907), (354, 0.4217605), (355, 0.31836575), (356, 0.44948), (357, 0.35680813), (358, 0.43628836), (359, 0.32045406), (360, 0.46016294), (361, 0.46079957), (362, 0.45895997), (363, 0.42859566), (364, 0.35823008), (365, 0.31216222), (366, 0.40651065), (367, 0.44919658), (368, 0.44498318), (369, 0.3163979), (370, 0.43474245), (371, 0.43441144), (372, 0.33066964), (373, 0.49506387), (374, 0.36740962), (375, 0.43043086), (376, 0.3597257), (377, 0.30865824), (378, 0.43947247), (379, 0.3511229), (380, 0.37200874), (381, 0.36578852), (382, 0.4116658), (383, 0.52022046), (384, 0.5639174), (385, 0.41422582), (386, 0.5400655), (387, 0.30968875), (388, 0.20745334), (389, 0.38609183), (390, 0.4396057), (391, 0.3500976), (392, 0.432504), (393, 0.508008), (394, 0.42608592), (395, 0.23182428), (396, 0.36862266), (397, 0.46558568), (398, 0.4579393), (399, 0.32645515), (400, 0.13632934), (401, 0.36493066), (402, 0.4521975), (403, 0.3765723), (404, 0.34706017), (405, 0.3143935), (406, 0.47761306), (407, 0.4070461), (408, 0.33625883), (409, 0.29837447), (410, 0.41173267), (411, 0.31468043), (412, 0.41497242), (413, 0.2957998), (414, 0.44649494), (415, 0.321132), (416, 0.23089504), (417, 0.3194558), (418, 0.34855402), (419, 0.37536812), (420, 0.27417028), (421, 0.35794842), (422, 0.23709618), (423, 0.31638083), (424, 0.43782187), (425, 0.3865601), (426, 0.25932294), (427, 0.26264673), (428, 0.26459724), (429, 0.39110255), (430, 0.6323649), (431, 0.23026294), (432, 0.4881554), (433, 0.42951518), (434, 0.44126135), (435, 0.4718553), (436, 0.42522338), (437, 0.36014217), (438, 0.6273452), (439, 0.42676866), (440, 0.42004308), (441, 0.31068164), (442, 0.3176645), (443, 0.4115467)]\n"
     ]
    }
   ],
   "source": [
    "# Load a pre-trained SBERT model (https://sbert.net/)\n",
    "m_SBERT = SentenceTransformer('all-MiniLM-L6-v2')\n",
    "\n",
    "# Move to file potentially\n",
    "tesla_job_desc = (\n",
    "    \"Develop, enhance and debug new and existing real-time software in C/C++ in embedded RTOS environments. \"\n",
    "    \"Work with HW and system teams on building testing infrastructure. Help design and bring up state of the art HIL/SIL validation infrastructure. \"\n",
    "    \"Help implement software tests for HIL/SIL infrastructure. Assist in tool development for testing and system integration. \"\n",
    "    \"Own implementation of software/firmware features end to end. What You'll Bring \"\n",
    "    \"Pursuing a Degree in Computer Science, Electrical Engineering, Physics or related field. \"\n",
    "    \"Desired to have strong understanding of Python debug simple circuits. \"\n",
    "    \"Desired to have good electrical and electronics fundamentals to be able to understand schematics and desired to have test driven development mindset. \"\n",
    "    \"Remain engaged, proactive and positive while solving very challenging problems. \"\n",
    "    \"Own assignments and take full accountability for overall team success. \"\n",
    "    \"Capable of delivering top quality C/C++ code for embedded systems.\"\n",
    ")\n",
    "\n",
    "results = []\n",
    "\n",
    "def compute_similarity(index):\n",
    "    resume = df_tech.iloc[index][\"Cleaned_str\"]\n",
    "    embed_resume = m_SBERT.encode(resume)\n",
    "    embed_jobdesc = m_SBERT.encode(tesla_job_desc)\n",
    "    similarity = cosine_similarity([embed_resume], [embed_jobdesc])[0][0]\n",
    "    results.append((index, similarity))\n",
    "\n",
    "for i in range(len(df_tech)):\n",
    "    compute_similarity(i)"
   ]
  },
  {
   "cell_type": "code",
   "execution_count": 61,
   "id": "4257541a-6dd9-49d2-8f9b-6f8b9f071849",
   "metadata": {},
   "outputs": [
    {
     "name": "stdout",
     "output_type": "stream",
     "text": [
      "(147, 0.5509381)\n",
      "(190, 0.5099367)\n",
      "(331, 0.62093765)\n",
      "(346, 0.5845447)\n",
      "(348, 0.53359866)\n",
      "(383, 0.52022046)\n",
      "(384, 0.5639174)\n",
      "(386, 0.5400655)\n",
      "(393, 0.508008)\n",
      "(430, 0.6323649)\n",
      "(438, 0.6273452)\n"
     ]
    }
   ],
   "source": [
    "# If over a similarity threshold, print index and similarity.\n",
    "for i in range(len(results)):\n",
    "    if results[i][1] > 0.5:\n",
    "        print(results[i])"
   ]
  },
  {
   "cell_type": "code",
   "execution_count": 59,
   "id": "65a7176b-aae1-436f-b735-7d03251271f0",
   "metadata": {},
   "outputs": [
    {
     "name": "stdout",
     "output_type": "stream",
     "text": [
      "qa engineering team lead career overview eight years of progressive technical experience in quality assurance engineering of computer software in windows environment strong practical and theoretical knowledge of software quality assurance tools and techniques. proven ability to develop system test strategy and methodology full-scale system integration and testing for quality, reliability, functionality and computability. expertise in development of ieee compliant testing documentation key contributor to software development teams supporting the release of many new products and release of several major upgrades to existing products experience in testing large and complex client server database applications multi-platform product delivery experience on pc system. experienced with windows graphical products, networking and or data acquisition software experienced in manual and automated testing working on projects of a diverse scope able to expertise judgment within defined parameters. strong knowledge in automated and manual black box testing, including acceptance, functional, regression, stress, compatibility and integration testing techniques, bug reporting and error handling. responsibilities include review software requirement and functional specification documents, participation in code walk-trough and assist in design and development of test plan and procedures to secure a position that will allow me to exercise skills obtained through education and prior work experiences. qualifications analytical and problem solving stress tolerance communication skills leadership skills ability to resolve non-routine and complex business issues anticipate problems, develop alternate solutions and manage execution successfully ability to maintain a high energy level for extended periods of time ability to communicate clearly and efficiently both verbally and in writing. ability to develop and maintain close working relationships with end users, business analysts, documentation specialists, other testers and developers and senior management experience in building and leading close-knit teams in a demanding environment with ambiguous or undefined and frequently changing requirements work experience company name march 2001 to july 2001 qa engineering team lead city , state imagicasttm is the first end-to-end service that gives todays educated consumers exactly what they want on the retail floor- the rich product information, personalization and access to the unlimited inventory of the internet combined with the immediate gratification of an in-store purchase. the primary responsibility for the quality of our imagicast product line, lead the qa team assigned to the imagicast related quality tasks, established appropriate qa methods, inspections, tests and documentation to verify software quality prior to release in a shipping product. also, was involved in the diagnosis of product failures or performance problems reported from the field. qa tasks applicable to the product included verifying operation of a dvd playback system, verifying operation of peripheral devices e.g. keyboard, printer connected to the embedded system, verifying data collection functions over a wireless data network and verifying presentation of html pages on an internet device. performed qa tests on complex, multi threaded systems and interpreting specifications for product features and designed appropriate test cases. applied qa processes to reveal functional and performance problems affecting web pages in real time embedded systems. responsibilities included verifying data warehousing and data mining applications used for business intelligence, e-business server side applications, multi-channel business applications, personalization features, and virtual inventory management applications typically found in a clicks and mortar business company name may 2000 to february 2001 quality assurance engineering manager city , state senticaxchangetm is the mobile solution that quickly enables alerts, two-way push and pull transactions and content delivery to all wireless devices as well as landline phones. the sentica xchangetm approach enables users or applications to initiate communication sessions and complete transactions at any time, interact and transact with their on-the-go subscribers and receive immediate confirmation and response over telephones, cell phones, wireless application protocol wap devices, pdas palm vii, ce devices and pocket pc and pagers as well as to build a single implementation for any desired application and enable all text, voice, image and video data to all communications devices. senticaxchangetm system administration and management module functionality provides full access to customer information from each touch-point in the enterprise and to each customer or employees who interact with the customer. these applications provide the breadth of functionality needed to succeed in the competitive wireless business. primarily responsible for performing analysis of existing job flows, coordination and update of systems documentation, and providing proposals for change where needed and assisting with test execution performed analysis and test document design for different projects within senticaxchangetm including adt - gui tool - application development tool, and composer api and sam - system administration management, which is an interface for utilizing unix and oracle sql, and various network protocols. company name november 1998 to may 2000 qa lead for customer care service applications city , state oracle customer care service applications - full business process management is provided with functionality in support, scheduling and dispatching spare parts, logistics, service billing and field service as well as in contracts. rounding out the offering, customer care functionality provides full access to customer information from each touch-point in the enterprise and to each customer care agent or other employees who interact with the customer. these applications provide the breadth of functionality needed to succeed in the competitive support, field service and depot repair business. full business process management is provided with functionality in support, scheduling and dispatching, spare parts, logistics, and service billing and mobile field service as well as in contracts from the. rounding out the offering, customer care functionality provides full access to customer information from each touch-point in the enterprise and to each customer care agent or other employees who interact with the customer. performed analysis and test document designfor oracle customer care service applications including oracle telephony management otm system. otm is a high-volume cross-platform interface engine utilizing unix 10.x c, oracle sql, and various network protocols. primarily responsible for performing analysis of existing job flows, coordination and update of systems documentation, and providing proposals for change where needed and assisting with test execution oracle maintenance repair and overhaul mro and system resource planning modules srp - performed a high- to medium-level analysis of maintenance repair and overhaul mro and system resource planning srp modules within oracle applications. these systems are decentralized and running on various platforms. primarily responsible for oversight of qa testing process deliverables. provided a detailed recommendation, including complete time and cost estimations, for test processes including direction, management, and oversight of activities involved in defining the related requirements, infrastructure, standards, training, support, methods, and procedures. also heavily involved in the strategic planning related to corporate-wide year 2000 certification. coordinated end-user and systems support staff training. administered issues management, required escalations, jeopardy notifications, and resolutions. provided verbal and written status reports to senior-level management on a regular basis. worked closely with both civil and software engineers to create an easy to use and understand informational product in a nt 4.0 environment provided change, risk, and implementation management. held ultimate responsibility for all deliverables, status reports, and final product delivery designed and developed a qa test plan for manual and automated test scripts for quality assurance of windows-based applications and their functionality. responsibilities included coordination of application support activities, application analysis and testing, as well as operating system support and maintenance. also assisted with the coordination and delivery of end-user training company name february 1998 to november 1998 mail - software quality engineer ii city , state as a quality assurance manager my role and responsibility included leading a qa team in black box and white box testing of a distributed architecture system with client and server components and proactively to be involved in the code walk trough and design review meetings to learn about the product and have great understanding of the software developed and be able to execute testing from low-level communications protocols to backend database systems. lead developing test plans, test cases and regression suites and make sure that test plans are executed and results communicated and developed strategies together with the development and qa team are improving the quality testability of our components and usability of final products. company name september 1997 to february 1998 senior quality assurance analyst city , state foster city electronic invoice presentment is a new enhancement to visa e-pay service and provides member financial institutions the ability to offer billers and retail customers electronic invoice delivery capability. eip system is based on windows nt 4.0 platform and is developed using visual basic and access database as the back end. system performs data transport via the following communication channels ms exchange, virtual area network van lan, compuserve and sprint-net responsible for developing of low-level qa test plan and qa reference documentation and qa findings document for the pilot project. assist in development of new testing methods and procedures, and improving testing efficiencies. recommended methods for automating testing using qa partners a tool perform acceptance, functional, gui usability, and error handling stress and regression testing using black box and gray box testing techniques. validate that data integrity and security is presented on all levels of data transport verify transmission completeness against the database, compare input with output using ms-dos batch file, check files format against the known set of templates, test data encryption and password protection interviewed new applicants for qa analyst positions for the project trained new members of the team for the their first days assigned responsibilities to the team members and wrote daily status reports, which included summery of the activities performed during each shift, to the project lead. presented qa group on the department meetings as a qa team lead and conference calls every 4 hours, which included report of the progress in the testing cycle. made sure that needed support was provided to the qa team from the developing team. performed manual and automated testing of the application. entered open found drs bugs into tracker bug tracking database and verified that drs bugs was close fixed. wrote and executed test cases for acceptance, boundary, performance, regression, volume and stress testing. developed and performed automated test cases using qa partner 4.0 in windows nt environment. wrote the findings document - a summary document of qa team analyses, findings, suggestions and or concerns found during the testing cycle on the project company name march 1993 to september 1997 software quality assurance city , state day-timer organizer 2.0 for windows 3.1 3.11 personal manager with advanced features works with day-timer brand name paper of different format.-personal manager with advanced features works with day-timer brand name paper of different format. test client server application - database application developed for non-profit organization clients, donators, employees, events, etc.. the database was developed in ms access and ms visual basic. it runs under windows 95. test functionality of the application creating, modifying and deleting records. provide regression, acceptance, unit and integration testing. create and execute cases for regression testing of designating areas of testing. develop automated test suites utilizing qa partner 3.5, emphasized testing of the features such as printing envelopes and labels, user preferences, startup screen. entered bugs into lotus notes bug tracking database, verified bugs education and training national education center management city , state , us 08 93-02 94 management minor, national education center, san francisco, california kensington training program city , state , us 08 93-02 94 testing computer software, kensington training program, san mateo, california technion university bs electrical engineering city , il 01 90-05 93 bs electrical engineering - technion university - haifa, israel certifications national education center professional affiliations electronic invoice presentment is a new enhancement to visa e-pay service and provides member financial institutions the ability to offer billers and retail customers electronic invoice delivery capability. eip system is based on windows nt 4.0 platform and is developed using visual basic and access database as the back end. system performs data transport via the following communication channels ms exchange, virtual area network van lan, compuserve and sprint-net responsible for developing of low-level qa test plan and qa reference documentation and qa findings document for the pilot project. assist in development of new testing methods and procedures, and improving testing efficiencies. recommended methods for automating testing using qa partners a tool perform acceptance, functional, gui usability, and error handling stress and regression testing using black box and gray box testing techniques. validate that data integrity and security is presented on all levels of data transport verify transmission completeness against the database, compare input with output using ms-dos batch file, check files format against the known set of templates, test data encryption and password protection interviewed new applicants for qa analyst positions for the project trained new members of the team for the their first days assigned responsibilities to the team members and wrote daily status reports, which included summery of the activities performed during each shift, to the project lead. presented qa group on the department meetings as a qa team lead and conference calls every 4 hours, which included report of the progress in the testing cycle. made sure that needed support was provided to the qa team from the developing team. performed manual and automated testing of the application. entered open found drs bugs into tracker bug tracking database and verified that drs bugs was close fixed. wrote and executed test cases for acceptance, boundary, performance, regression, volume and stress testing. developed and performed automated test cases using qa partner 4.0 in windows nt environment. wrote the findings document - a summary document of qa team analyses, findings, suggestions and or concerns found during the testing cycle on the project skills quality assurance, testing, access, qa, cases, database, regression testing, visual basic, client server, clients, integration, integration testing, integrator, lotus notes, microsoft windows, ms access, ms visual basic, printing, software quality assurance, windows 95, electrical engineering, documentation, network protocols, oracle, proposals, sql, unix, qa test, test plan, test cases, application analysis, application support, automated test scripts, basis, billing, business process management, c, contracts, dispatching, issues management, logistics, maintenance, maintenance repair, planning modules, process management, qa testing, scheduling, staff training, strategic planning, systems support, telephony, test scripts, training, graphical user interface, gui, wireless, black box, usability, adt, api, application development, pocket pc, system administration, systems administration, telephones, voice, wap, retail, retail marketing, team lead, architecture, database systems, design review, engineer, quality engineer, software quality engineer, test plans, white box, white box testing, black box testing, data acquisition, databases, db2, dbase, dbase iv, excellent verbal and written communication skills, ftp, ieee, internet explorer, ipx, java, javascript, linux, ms office, netbeui, netscape, networking, new products, novell, operations, problem solving, rdbms, san, software development, software testing, solutions, storage area network, structured software, system integration, tcp, tcp ip, virtual machine, visual test, vm, assurance analyst, automated testing, back end, data integrity, dos, encryption, exchange, file, invoice, lan, ms exchange, ms-dos, progress, security, business intelligence, collection, data collection, data mining, data warehousing, e-business, embedded systems, html, inspections, inventory, qa engineering, real time, real time embedded, real time embedded systems, shipping, wireless data\n"
     ]
    }
   ],
   "source": [
    "print(df_tech.iloc[438][\"Cleaned_str\"])"
   ]
  },
  {
   "cell_type": "markdown",
   "id": "09b2acf5-b924-4c8b-af87-207463929724",
   "metadata": {},
   "source": [
    "## 2. Second Resume Cleaning Cycle"
   ]
  },
  {
   "cell_type": "code",
   "execution_count": null,
   "id": "3569dcab-c531-43d3-8a36-9d90d10f5f9b",
   "metadata": {},
   "outputs": [],
   "source": [
    "# Using TF-IDF and cosine similarity to rank the resumes based on the ideal resume "
   ]
  },
  {
   "cell_type": "markdown",
   "id": "8e5f517a-0624-4986-a4b9-ba8179cde4dc",
   "metadata": {},
   "source": [
    "## 3. Third Resume Cleaning Cycle & SVM Training"
   ]
  },
  {
   "cell_type": "code",
   "execution_count": null,
   "id": "5c3b6f7d-20b7-4ce3-94ca-023702585444",
   "metadata": {},
   "outputs": [],
   "source": [
    "# Train SVM on synthetic lables"
   ]
  }
 ],
 "metadata": {
  "kernelspec": {
   "display_name": "Python [conda env:base] *",
   "language": "python",
   "name": "conda-base-py"
  },
  "language_info": {
   "codemirror_mode": {
    "name": "ipython",
    "version": 3
   },
   "file_extension": ".py",
   "mimetype": "text/x-python",
   "name": "python",
   "nbconvert_exporter": "python",
   "pygments_lexer": "ipython3",
   "version": "3.12.2"
  }
 },
 "nbformat": 4,
 "nbformat_minor": 5
}

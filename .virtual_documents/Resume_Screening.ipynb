














import pandas as pd

df_orig = pd.read_csv("Resume.csv")
df = df_orig.drop("Resume_html", axis=1) # Drop HTML, because we do not need it

# All possible categories: HR, Designer, Information-Technology, Teacher, Advocate, Business-Development, 
# Healthcare, Fitness, Agriculture, BPO, Sales, Consultant, Digital-Media, Automobile, Chef, 
# Finance, Apparel, Engineering, Accountant, Construction, Public-Relations, Banking, Arts, Aviation

# Remove non-relevant data noise (keep IT, Healthcare, Sales, Engineering, HR)
df = df[df["Category"].isin(["INFORMATION-TECHNOLOGY", "HEALTHCARE", "SALES", "ENGINEERING", "HR"])].reset_index(drop=True)

df.to_csv("new_data.csv")


# Using ReGeX to clean the Resume strings
import re

def clean_resume(text):
    text = text.lower() # Make everything lowercase.
    text = re.sub(r'\s+', ' ', text) # replaces whitespace characters with a single space.
    text = re.sub(r'\/+', ' ', text) # replaces / characters with a single space (some resumes use backslashes)
    text = re.sub(r'[^a-z0-9\s\.\-]', '', text) # keeps letters, numbers, whitespace, periods, and dashes.
    text = re.sub(r'\s+', ' ', text).strip() # replaces leading and trailing whitespace characters.
    return text

df["Cleaned_str"] = df["Resume_str"].apply(clean_resume)

# Also, there are no NaN values, so we don't need to drop any rows.

df.head()






